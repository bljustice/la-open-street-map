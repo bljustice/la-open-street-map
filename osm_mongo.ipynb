{
 "cells": [
  {
   "cell_type": "markdown",
   "metadata": {},
   "source": [
    "Los Angeles Open Street Map Analysis\n",
    "------------------"
   ]
  },
  {
   "cell_type": "code",
   "execution_count": 2,
   "metadata": {
    "collapsed": true
   },
   "outputs": [],
   "source": [
    "import xml.etree.ElementTree as ET\n",
    "import re\n",
    "from pymongo import MongoClient"
   ]
  },
  {
   "cell_type": "markdown",
   "metadata": {},
   "source": [
    "####Open Street Map Data File####"
   ]
  },
  {
   "cell_type": "code",
   "execution_count": 1,
   "metadata": {
    "collapsed": true
   },
   "outputs": [],
   "source": [
    "osm_file = \"los-angeles_california.osm\""
   ]
  },
  {
   "cell_type": "markdown",
   "metadata": {},
   "source": [
    "####Iterable XML parsing function####"
   ]
  },
  {
   "cell_type": "code",
   "execution_count": 51,
   "metadata": {
    "collapsed": true
   },
   "outputs": [],
   "source": [
    "def parse_xml(filename):\n",
    "    \n",
    "    lower = re.compile(r'^([a-z]|_)*$')\n",
    "    lower_colon = re.compile(r'^([a-z]|_)*:([a-z]|_)*$')\n",
    "    problemchars = re.compile(r'[=\\+/&<>;\\'\"\\?%#$@\\,\\. \\t\\r\\n]')\n",
    "    CREATED = [ \"version\", \"changeset\", \"timestamp\", \"user\", \"uid\"]\n",
    "    parsed_json = []\n",
    "\n",
    "    for event, elem in ET.iterparse(filename):\n",
    "        if elem.tag == 'node' or elem.tag == 'way':\n",
    "            osm_json = {}\n",
    "            osm_json['address'] = {}\n",
    "            a = elem.attrib\n",
    "            osm_json['created'] = {k.strip():v.strip() for k,v in a.items() if k in CREATED}\n",
    "            osm_json['type'] = elem.tag\n",
    "            for k,v in a.items():\n",
    "                if k == 'visible':\n",
    "                    osm_json['visible'] = a['visible']\n",
    "                elif k == 'id':\n",
    "                    osm_json['id'] = a['id']\n",
    "                elif k == 'lat' or k == 'lon':\n",
    "                    osm_json['pos'] = [float(a['lat']),float(a['lon'])]\n",
    "\n",
    "            for tag in elem.iter('tag'):\n",
    "                t = tag.attrib\n",
    "                if problemchars.match(str(t['k'])):\n",
    "                    pass\n",
    "                elif re.search('^addr:',str(t['k'])):\n",
    "                    if t['k'].count(':') == 1:\n",
    "                        sk = t['k'].replace('addr:','')\n",
    "                        try:\n",
    "                            osm_json['address'][sk] = t['v']\n",
    "                        except:\n",
    "                            pass\n",
    "                    else:\n",
    "                        pass\n",
    "                elif ':' in t['k']:\n",
    "                    osm_json[t['k']] = t['v']\n",
    "                else:\n",
    "                    osm_json[t['k']] = t['v']\n",
    "\n",
    "            for tag in elem.iter('way'):\n",
    "                nd = []\n",
    "                for x in tag:\n",
    "                    if x.tag == 'nd':\n",
    "                        nd_x = x.attrib['ref']\n",
    "                        nd.append(nd_x)\n",
    "                        osm_json.update({'node_refs':nd})\n",
    "\n",
    "            if len(osm_json['address']) == 0:\n",
    "                del osm_json['address']\n",
    "                print (osm_json)\n",
    "                parsed_json.append(osm_json)\n",
    "            else:\n",
    "                print (osm_json)\n",
    "                parsed_json.append(osm_json)\n",
    "    return parsed_json"
   ]
  },
  {
   "cell_type": "markdown",
   "metadata": {},
   "source": [
    "####MongoDB connection, database, and collection setup####"
   ]
  },
  {
   "cell_type": "code",
   "execution_count": 3,
   "metadata": {
    "collapsed": false
   },
   "outputs": [],
   "source": [
    "client = MongoClient()\n",
    "db = client.project3\n",
    "db.osm_v2.insert_many(parse_xml(osm_file))"
   ]
  },
  {
   "cell_type": "markdown",
   "metadata": {},
   "source": [
    "####Number of documents in collection####"
   ]
  },
  {
   "cell_type": "code",
   "execution_count": 4,
   "metadata": {
    "collapsed": false
   },
   "outputs": [
    {
     "data": {
      "text/plain": [
       "5533000"
      ]
     },
     "execution_count": 4,
     "metadata": {},
     "output_type": "execute_result"
    }
   ],
   "source": [
    "db.osm_v2.count()"
   ]
  },
  {
   "cell_type": "markdown",
   "metadata": {},
   "source": [
    "####Number of node-based documents####"
   ]
  },
  {
   "cell_type": "code",
   "execution_count": 5,
   "metadata": {
    "collapsed": false
   },
   "outputs": [
    {
     "data": {
      "text/plain": [
       "5268722"
      ]
     },
     "execution_count": 5,
     "metadata": {},
     "output_type": "execute_result"
    }
   ],
   "source": [
    "db.osm_v2.find({\"type\":\"node\"}).count()"
   ]
  },
  {
   "cell_type": "markdown",
   "metadata": {},
   "source": [
    "####Number of way-based documents####"
   ]
  },
  {
   "cell_type": "code",
   "execution_count": 6,
   "metadata": {
    "collapsed": false
   },
   "outputs": [
    {
     "data": {
      "text/plain": [
       "263722"
      ]
     },
     "execution_count": 6,
     "metadata": {},
     "output_type": "execute_result"
    }
   ],
   "source": [
    "db.osm_v2.find({\"type\":\"way\"}).count()"
   ]
  },
  {
   "cell_type": "markdown",
   "metadata": {},
   "source": [
    "####Number of unique users####"
   ]
  },
  {
   "cell_type": "code",
   "execution_count": 8,
   "metadata": {
    "collapsed": false
   },
   "outputs": [
    {
     "name": "stdout",
     "output_type": "stream",
     "text": [
      "{'count': 2790, '_id': 1}\n"
     ]
    }
   ],
   "source": [
    "unique_users = db.osm_v2.aggregate([{\"$group\":{\"_id\":\"$created.user\",\"count\":{\"$sum\":1}}},\n",
    "                                 {\"$group\":{\"_id\":1,\"count\":{\"$sum\":1}}},\n",
    "                                 {\"$sort\":{\"count\":-1}}])\n",
    "for x in unique_users:\n",
    "    print(x)"
   ]
  },
  {
   "cell_type": "markdown",
   "metadata": {},
   "source": [
    "####Most common contributor####"
   ]
  },
  {
   "cell_type": "code",
   "execution_count": 9,
   "metadata": {
    "collapsed": false
   },
   "outputs": [
    {
     "name": "stdout",
     "output_type": "stream",
     "text": [
      "{'count': 546384, '_id': 'woodpeck_fixbot'}\n"
     ]
    }
   ],
   "source": [
    "first_user = db.osm_v2.aggregate([{\"$group\":{\"_id\":\"$created.user\",\"count\":{\"$sum\":1}}},\n",
    "                         {\"$sort\":{\"count\":-1}},\n",
    "                        {\"$limit\":1}])\n",
    "for x in first_user:\n",
    "    print(x)"
   ]
  },
  {
   "cell_type": "markdown",
   "metadata": {},
   "source": [
    "####Top cities listed####"
   ]
  },
  {
   "cell_type": "code",
   "execution_count": 40,
   "metadata": {
    "collapsed": false,
    "scrolled": true
   },
   "outputs": [
    {
     "name": "stdout",
     "output_type": "stream",
     "text": [
      "{'count': 14114, '_id': 'San Diego'}\n",
      "{'count': 12217, '_id': 'Lake Forest'}\n",
      "{'count': 11252, '_id': 'Irvine'}\n"
     ]
    }
   ],
   "source": [
    "top_cities = db.osm_v2.aggregate([{'$match':{\"address.city\":{\"$exists\":1}}},\n",
    "                             {\"$group\":{\"_id\":\"$address.city\",\"count\":{\"$sum\":1}}},\n",
    "                              {'$sort':{\"count\":-1}},\n",
    "                              {\"$limit\":3}])\n",
    "for x in top_cities:\n",
    "    print(x)"
   ]
  },
  {
   "cell_type": "markdown",
   "metadata": {},
   "source": [
    "####Number of unique cities####"
   ]
  },
  {
   "cell_type": "code",
   "execution_count": 38,
   "metadata": {
    "collapsed": false
   },
   "outputs": [
    {
     "name": "stdout",
     "output_type": "stream",
     "text": [
      "{'count': 296, '_id': 1}\n"
     ]
    }
   ],
   "source": [
    "unique_cities = db.osm_v2.aggregate([{\"$match\":{\"address.city\":{\"$exists\":1}}},\n",
    "                          {\"$group\":{\"_id\":\"$address.city\",\"count\":{\"$sum\":1}}},\n",
    "                          {\"$group\":{\"_id\":1,\"count\":{\"$sum\":1}}},\n",
    "                          {\"$sort\":{\"count\":1}}])\n",
    "for x in unique_cities:\n",
    "    print(x)"
   ]
  },
  {
   "cell_type": "markdown",
   "metadata": {},
   "source": [
    "####Household numbers with non-digit characters####"
   ]
  },
  {
   "cell_type": "code",
   "execution_count": 19,
   "metadata": {
    "collapsed": false
   },
   "outputs": [
    {
     "name": "stdout",
     "output_type": "stream",
     "text": [
      "{'count': 101, '_id': 1}\n"
     ]
    }
   ],
   "source": [
    "non_digit_housenumbers = db.osm_v2.aggregate([{\"$match\":{\"address.housenumber\":{\"$regex\":\"[A-Za-z]\"}}},                       \n",
    "                                           {\"$group\":{\"_id\":\"$address.housenumber\",\"count\":{\"$sum\":1}}},\n",
    "                                           {\"$group\":{\"_id\":1,\"count\":{\"$sum\":1}}},\n",
    "                                           {\"$sort\":{\"count\":1}}])\n",
    "for x in non_digit_housenumbers:\n",
    "    print (x)"
   ]
  },
  {
   "cell_type": "markdown",
   "metadata": {},
   "source": [
    "####Long ZIP codes for cleaning####"
   ]
  },
  {
   "cell_type": "code",
   "execution_count": 15,
   "metadata": {
    "collapsed": false
   },
   "outputs": [],
   "source": [
    "long_zip = db.osm_v2.find({'address.postcode':{'$regex':'^\\d.*-'}})\n",
    "for x in long_zip:\n",
    "    x['address']['postcode'] = re.sub('-.*','',str(x['address']['postcode']))\n",
    "    db.osm_v2.save(x)"
   ]
  },
  {
   "cell_type": "markdown",
   "metadata": {},
   "source": [
    "####Convert short street names to long street names####"
   ]
  },
  {
   "cell_type": "code",
   "execution_count": 22,
   "metadata": {
    "collapsed": false,
    "scrolled": false
   },
   "outputs": [],
   "source": [
    "short_streets = db.osm_v2.aggregate([{\"$match\":{\"address.street\":{\"$regex\":\"[A-Za-z]\\.\"}}}])\n",
    "street_endings= {\"Blvd.\":\"Boulevard \",\"St.\":\"Street \",\"Ave.\":\"Avenue \",\"Dr.\":\"Drive \",\"Ctr.\":\"Center \",\"Rd.\":\"Road \",\n",
    "                 \"Blvd \":\"Boulevard \",\"St \":\"Street \",\"Ave \":\"Avenue \",\"Dr \":\"Drive \",\"Ctr \":\"Center \",\"Rd \":\"Road \"}\n",
    "\n",
    "for x in short_streets:\n",
    "    street = x['address']['street']\n",
    "    for k,v in street_endings.items():\n",
    "        if k in street:\n",
    "            fixed_street = re.sub(k,v,str(street)).strip()\n",
    "            x['address']['street'] = fixed_street\n",
    "            db.osm_v2.save(x)"
   ]
  },
  {
   "cell_type": "markdown",
   "metadata": {},
   "source": [
    "####Top amentities listed####"
   ]
  },
  {
   "cell_type": "code",
   "execution_count": 24,
   "metadata": {
    "collapsed": false
   },
   "outputs": [
    {
     "name": "stdout",
     "output_type": "stream",
     "text": [
      "{'count': 3892, '_id': 'place_of_worship'}\n",
      "{'count': 3806, '_id': 'school'}\n",
      "{'count': 2271, '_id': 'parking'}\n",
      "{'count': 1873, '_id': 'restaurant'}\n",
      "{'count': 1341, '_id': 'fast_food'}\n"
     ]
    }
   ],
   "source": [
    "amenities = db.osm_v2.aggregate([{'$match':{\"amenity\":{'$exists':1}}},\n",
    "                                {'$group':{'_id':'$amenity','count':{'$sum':1}}},\n",
    "                                {'$sort':{'count':-1}},\n",
    "                                {'$limit':5}])\n",
    "for x in amenities:\n",
    "    print(x)"
   ]
  },
  {
   "cell_type": "markdown",
   "metadata": {},
   "source": [
    "####Top cuisines listed####"
   ]
  },
  {
   "cell_type": "code",
   "execution_count": 27,
   "metadata": {
    "collapsed": false
   },
   "outputs": [
    {
     "name": "stdout",
     "output_type": "stream",
     "text": [
      "{'count': 795, '_id': None}\n",
      "{'count': 173, '_id': 'american'}\n",
      "{'count': 152, '_id': 'mexican'}\n",
      "{'count': 87, '_id': 'pizza'}\n",
      "{'count': 73, '_id': 'italian'}\n"
     ]
    }
   ],
   "source": [
    "cuisines = db.osm_v2.aggregate([{'$match':{'amenity':'restaurant'}},\n",
    "                        {'$group':{'_id':'$cuisine','count':{'$sum':1}}},\n",
    "                        {'$sort':{'count':-1}},\n",
    "                        {'$limit':5}])\n",
    "for x in cuisines:\n",
    "    print(x)"
   ]
  },
  {
   "cell_type": "markdown",
   "metadata": {},
   "source": [
    "####Top fast-food restaurants listed####"
   ]
  },
  {
   "cell_type": "code",
   "execution_count": 36,
   "metadata": {
    "collapsed": false
   },
   "outputs": [
    {
     "name": "stdout",
     "output_type": "stream",
     "text": [
      "{'count': 117, '_id': 'Subway'}\n",
      "{'count': 113, '_id': \"McDonald's\"}\n",
      "{'count': 67, '_id': 'Jack in the Box'}\n"
     ]
    }
   ],
   "source": [
    "fastfood = db.osm_v2.aggregate([{'$match':{'amenity':'fast_food'}},\n",
    "                         {'$group':{'_id':'$name','count':{'$sum':1}}},\n",
    "                         {'$sort':{'count':-1}},\n",
    "                         {'$limit':3}])\n",
    "for x in fastfood:\n",
    "    print(x)"
   ]
  },
  {
   "cell_type": "markdown",
   "metadata": {},
   "source": [
    "####Quiz 1 solution####"
   ]
  },
  {
   "cell_type": "code",
   "execution_count": null,
   "metadata": {
    "collapsed": true
   },
   "outputs": [],
   "source": [
    "def count_tags(filename):\n",
    "        tag_dict = {}\n",
    "        for event, elem in ET.iterparse(filename):\n",
    "            if elem.tag not in tag_dict:\n",
    "                tag_dict[elem.tag] = 1\n",
    "            else:\n",
    "                tag_dict[elem.tag] += 1           \n",
    "        return tag_dict"
   ]
  },
  {
   "cell_type": "markdown",
   "metadata": {},
   "source": [
    "####Quiz 3 solution####"
   ]
  },
  {
   "cell_type": "code",
   "execution_count": null,
   "metadata": {
    "collapsed": true
   },
   "outputs": [],
   "source": [
    "def key_type(element, keys):\n",
    "    if element.tag == \"tag\":\n",
    "        k = element.get('k')\n",
    "        if re.search(lower,str(k)):\n",
    "            keys['lower'] += 1\n",
    "        elif re.search(lower_colon,str(k)):\n",
    "            keys['lower_colon'] += 1\n",
    "        elif re.search(problemchars,str(k)):\n",
    "            keys['problemchars'] += 1\n",
    "        else:\n",
    "            keys['other'] += 1\n",
    "    return keys"
   ]
  },
  {
   "cell_type": "markdown",
   "metadata": {},
   "source": [
    "####Quiz 4 solution####"
   ]
  },
  {
   "cell_type": "code",
   "execution_count": null,
   "metadata": {
    "collapsed": true
   },
   "outputs": [],
   "source": [
    "def process_map(filename):\n",
    "    users = set()\n",
    "    for _, element in ET.iterparse(filename):\n",
    "        if element.tag == 'node':\n",
    "            for tag in element.iter('node'):\n",
    "                uid = tag.get('uid')\n",
    "                users.add(uid)\n",
    "        elif element.tag == 'way':\n",
    "            for tag in element.iter('way'):\n",
    "                uid = tag.get('uid')\n",
    "                users.add(uid)\n",
    "        elif element.tag == 'relation':\n",
    "            for tag in element.iter('relation'):\n",
    "                uid = tag.get('uid')\n",
    "                users.add(uid)       \n",
    "    return users"
   ]
  },
  {
   "cell_type": "markdown",
   "metadata": {},
   "source": [
    "####Quiz 5 solution####"
   ]
  },
  {
   "cell_type": "code",
   "execution_count": null,
   "metadata": {
    "collapsed": true
   },
   "outputs": [],
   "source": [
    "def update_name(name, mapping):\n",
    "    if street_type_re.search(name):\n",
    "        s = street_type_re.search(name).group()\n",
    "        if s not in expected:\n",
    "            return re.sub(street_type_re,mapping[s],name)"
   ]
  },
  {
   "cell_type": "markdown",
   "metadata": {},
   "source": [
    "####Quiz 6 solution####"
   ]
  },
  {
   "cell_type": "code",
   "execution_count": null,
   "metadata": {
    "collapsed": true
   },
   "outputs": [],
   "source": [
    "lower = re.compile(r'^([a-z]|_)*$')\n",
    "lower_colon = re.compile(r'^([a-z]|_)*:([a-z]|_)*$')\n",
    "problemchars = re.compile(r'[=\\+/&<>;\\'\"\\?%#$@\\,\\. \\t\\r\\n]')\n",
    "CREATED = [ \"version\", \"changeset\", \"timestamp\", \"user\", \"uid\"]\n",
    "\n",
    "def shape_element(element):\n",
    "    node = {}\n",
    "    node['address'] = {}\n",
    "    if element.tag == \"node\" or element.tag == \"way\":\n",
    "        for tag in element.iter('tag'):\n",
    "            t = tag.attrib\n",
    "            if problemchars.match(str(t['k'])):\n",
    "                pass\n",
    "            elif re.findall('addr:',str(t['k'])):\n",
    "                if t['k'].count(':') == 2:\n",
    "                    pass\n",
    "                elif t['k'].count(':') == 1:\n",
    "                    stripped_t = t['k'].replace('addr:','')\n",
    "                    node['address'].update({stripped_t:t['v']})\n",
    "                else:\n",
    "                    pass\n",
    "            else:\n",
    "                node[t['k']] = t['v']\n",
    "                                                                       \n",
    "        a = element.attrib\n",
    "        node['type'] = element.tag\n",
    "        node['id'] = a['id']\n",
    "        \n",
    "        for tag in element.iter('way'):\n",
    "            nd = []\n",
    "            for x in tag:\n",
    "                if x.tag == 'nd':\n",
    "                    nd_x = x.attrib['ref']\n",
    "                    nd.append(nd_x)\n",
    "                    node.update({'node_refs':nd})\n",
    "        \n",
    "        for k,v in a.items():\n",
    "            if k == 'visible':\n",
    "                node.update({k:v})\n",
    "            elif k == 'lat' or k == 'lon':\n",
    "                node['pos'] = [float(a['lat']),float(a['lon'])]\n",
    "            elif k in CREATED:\n",
    "                node['created'] = {'version':a['version'],\n",
    "                           'changeset':a['changeset'],\n",
    "                           'timestamp':a['timestamp'],\n",
    "                           'user':a['user'],\n",
    "                           'uid':a['uid']}\n",
    "        for k,v in node.items():\n",
    "            if v == {}:\n",
    "                del node[k]\n",
    "        return node\n",
    "        print node\n",
    "    else:\n",
    "        return None"
   ]
  }
 ],
 "metadata": {
  "kernelspec": {
   "display_name": "Python 3",
   "language": "python",
   "name": "python3"
  },
  "language_info": {
   "codemirror_mode": {
    "name": "ipython",
    "version": 3
   },
   "file_extension": ".py",
   "mimetype": "text/x-python",
   "name": "python",
   "nbconvert_exporter": "python",
   "pygments_lexer": "ipython3",
   "version": "3.5.1"
  }
 },
 "nbformat": 4,
 "nbformat_minor": 0
}
